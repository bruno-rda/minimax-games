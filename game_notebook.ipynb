{
 "cells": [
  {
   "cell_type": "markdown",
   "metadata": {},
   "source": [
    "# TicTacToe"
   ]
  },
  {
   "cell_type": "code",
   "execution_count": 1,
   "metadata": {},
   "outputs": [],
   "source": [
    "from games import TicTacToe\n",
    "from players import TicTacToePlayer, TicTacToeAI\n",
    "from runner import play"
   ]
  },
  {
   "cell_type": "code",
   "execution_count": 2,
   "metadata": {},
   "outputs": [
    {
     "name": "stdout",
     "output_type": "stream",
     "text": [
      "|\t0\t|\t1\t|\t2\t|\n",
      "-------------------------------------------------\n",
      "|\t3\t|\t4\t|\t5\t|\n",
      "-------------------------------------------------\n",
      "|\t6\t|\t7\t|\t8\t|\n",
      "-------------------------------------------------\n",
      "\n",
      "Turn: AI ❌\n",
      "3501 scenarios searched in 0.043857 seconds\n",
      "Cache hit rate: 25.19%\n",
      "AI ❌ plays: 0\n",
      "\n",
      "|\t❌\t|\t1\t|\t2\t|\n",
      "-------------------------------------------------\n",
      "|\t3\t|\t4\t|\t5\t|\n",
      "-------------------------------------------------\n",
      "|\t6\t|\t7\t|\t8\t|\n",
      "-------------------------------------------------\n",
      "\n",
      "Turn: Bruno ⭕️\n",
      "Bruno ⭕️ plays: 3\n",
      "\n",
      "|\t❌\t|\t1\t|\t2\t|\n",
      "-------------------------------------------------\n",
      "|\t⭕️\t|\t4\t|\t5\t|\n",
      "-------------------------------------------------\n",
      "|\t6\t|\t7\t|\t8\t|\n",
      "-------------------------------------------------\n",
      "\n",
      "Turn: AI ❌\n",
      "57 scenarios searched in 0.001146 seconds\n",
      "Cache hit rate: 75.44%\n",
      "AI ❌ plays: 1\n",
      "\n",
      "|\t❌\t|\t❌\t|\t2\t|\n",
      "-------------------------------------------------\n",
      "|\t⭕️\t|\t4\t|\t5\t|\n",
      "-------------------------------------------------\n",
      "|\t6\t|\t7\t|\t8\t|\n",
      "-------------------------------------------------\n",
      "\n",
      "Turn: Bruno ⭕️\n",
      "Bruno ⭕️ plays: 2\n",
      "\n",
      "|\t❌\t|\t❌\t|\t⭕️\t|\n",
      "-------------------------------------------------\n",
      "|\t⭕️\t|\t4\t|\t5\t|\n",
      "-------------------------------------------------\n",
      "|\t6\t|\t7\t|\t8\t|\n",
      "-------------------------------------------------\n",
      "\n",
      "Turn: AI ❌\n",
      "19 scenarios searched in 0.000192 seconds\n",
      "Cache hit rate: 57.89%\n",
      "AI ❌ plays: 4\n",
      "\n",
      "|\t❌\t|\t❌\t|\t⭕️\t|\n",
      "-------------------------------------------------\n",
      "|\t⭕️\t|\t❌\t|\t5\t|\n",
      "-------------------------------------------------\n",
      "|\t6\t|\t7\t|\t8\t|\n",
      "-------------------------------------------------\n",
      "\n",
      "Turn: Bruno ⭕️\n",
      "Bruno ⭕️ plays: 7\n",
      "\n",
      "|\t❌\t|\t❌\t|\t⭕️\t|\n",
      "-------------------------------------------------\n",
      "|\t⭕️\t|\t❌\t|\t5\t|\n",
      "-------------------------------------------------\n",
      "|\t6\t|\t⭕️\t|\t8\t|\n",
      "-------------------------------------------------\n",
      "\n",
      "Turn: AI ❌\n",
      "11 scenarios searched in 0.000072 seconds\n",
      "Cache hit rate: 45.45%\n",
      "AI ❌ plays: 8\n",
      "\n",
      "|\t❌\t|\t❌\t|\t⭕️\t|\n",
      "-------------------------------------------------\n",
      "|\t⭕️\t|\t❌\t|\t5\t|\n",
      "-------------------------------------------------\n",
      "|\t6\t|\t⭕️\t|\t❌\t|\n",
      "-------------------------------------------------\n",
      "\n",
      "Winner: AI ❌\n",
      "Score: 3\n"
     ]
    }
   ],
   "source": [
    "player = TicTacToePlayer('Bruno')\n",
    "ai = TicTacToeAI('AI')\n",
    "game = TicTacToe()\n",
    "\n",
    "play(game, ai, player)"
   ]
  },
  {
   "cell_type": "markdown",
   "metadata": {},
   "source": [
    "# Connect4"
   ]
  },
  {
   "cell_type": "code",
   "execution_count": 3,
   "metadata": {},
   "outputs": [],
   "source": [
    "from games import Connect4\n",
    "from players import Connect4Player, Connect4AI\n",
    "from runner import play"
   ]
  },
  {
   "cell_type": "code",
   "execution_count": null,
   "metadata": {},
   "outputs": [],
   "source": [
    "player = Connect4Player('Bruno')\n",
    "ai = Connect4AI(\n",
    "    'AI', \n",
    "    verbose=True, \n",
    "    max_depth=26\n",
    ")\n",
    "\n",
    "game = Connect4()\n",
    "play(game, player, ai)"
   ]
  },
  {
   "cell_type": "markdown",
   "metadata": {},
   "source": [
    "# Dominoes"
   ]
  },
  {
   "cell_type": "code",
   "execution_count": 4,
   "metadata": {},
   "outputs": [],
   "source": [
    "from games import Dominoes\n",
    "from players import DominoesPlayer, DominoesAI\n",
    "from runner import play"
   ]
  },
  {
   "cell_type": "code",
   "execution_count": 5,
   "metadata": {},
   "outputs": [],
   "source": [
    "player = DominoesPlayer('Bruno')\n",
    "singles_ai = DominoesAI(\n",
    "    'AI', \n",
    "    verbose=True, \n",
    "    max_depth=15\n",
    ")\n",
    "\n",
    "doubles_ai = DominoesAI(\n",
    "    'AI', \n",
    "    verbose=True, \n",
    "    max_depth=float('inf')\n",
    ")"
   ]
  },
  {
   "cell_type": "code",
   "execution_count": null,
   "metadata": {},
   "outputs": [],
   "source": [
    "game = Dominoes(single_player=True)\n",
    "play(game, singles_ai, singles_ai)"
   ]
  },
  {
   "cell_type": "code",
   "execution_count": null,
   "metadata": {},
   "outputs": [],
   "source": [
    "game = Dominoes(single_player=False)\n",
    "play(game, doubles_ai, doubles_ai)"
   ]
  }
 ],
 "metadata": {
  "kernelspec": {
   "display_name": ".venv",
   "language": "python",
   "name": "python3"
  },
  "language_info": {
   "codemirror_mode": {
    "name": "ipython",
    "version": 3
   },
   "file_extension": ".py",
   "mimetype": "text/x-python",
   "name": "python",
   "nbconvert_exporter": "python",
   "pygments_lexer": "ipython3",
   "version": "3.11.13"
  }
 },
 "nbformat": 4,
 "nbformat_minor": 2
}
